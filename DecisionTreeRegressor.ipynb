{
  "nbformat": 4,
  "nbformat_minor": 0,
  "metadata": {
    "colab": {
      "name": "DecisionTreeRegressor.ipynb",
      "provenance": [],
      "collapsed_sections": [],
      "authorship_tag": "ABX9TyMg3cHJkeYsawgJqkeqFVmD",
      "include_colab_link": true
    },
    "kernelspec": {
      "name": "python3",
      "display_name": "Python 3"
    },
    "language_info": {
      "name": "python"
    }
  },
  "cells": [
    {
      "cell_type": "markdown",
      "metadata": {
        "id": "view-in-github",
        "colab_type": "text"
      },
      "source": [
        "<a href=\"https://colab.research.google.com/github/ccxlxy/Coding/blob/main/DecisionTreeRegressor.ipynb\" target=\"_parent\"><img src=\"https://colab.research.google.com/assets/colab-badge.svg\" alt=\"Open In Colab\"/></a>"
      ]
    },
    {
      "cell_type": "code",
      "metadata": {
        "id": "WficvMX0OVi7"
      },
      "source": [
        "# from sklearn import tree  # 如果导入tree模块，要tree.DecisionTreeRegressor\n",
        "from sklearn.tree import DecisionTreeRegressor\n",
        "from sklearn.model_selection import cross_val_score # 交叉验证\n",
        "from sklearn.datasets import load_boston"
      ],
      "execution_count": null,
      "outputs": []
    },
    {
      "cell_type": "code",
      "metadata": {
        "colab": {
          "base_uri": "https://localhost:8080/"
        },
        "id": "1d4p5yDSPEHs",
        "outputId": "f680904e-2dcd-4aa1-927d-353dfee6e639"
      },
      "source": [
        "boston=load_boston()\n",
        "regressor=DecisionTreeRegressor()\n",
        "cross_val_score(regressor,boston.data,boston.target,cv=5,scoring=\"neg_mean_squared_error\") # 10折交叉验证\n"
      ],
      "execution_count": null,
      "outputs": [
        {
          "output_type": "execute_result",
          "data": {
            "text/plain": [
              "array([-12.11941176, -36.49257426, -31.26792079, -51.31118812,\n",
              "       -73.88841584])"
            ]
          },
          "metadata": {
            "tags": []
          },
          "execution_count": 4
        }
      ]
    },
    {
      "cell_type": "code",
      "metadata": {
        "id": "oZEHcOJCP688"
      },
      "source": [
        "# 一维回归的图像绘制 \n",
        "# 导入库\n",
        "import numpy as np\n",
        "from sklearn.tree import DecisionTreeClassifier\n",
        "import matplotlib.pyplot as plt"
      ],
      "execution_count": null,
      "outputs": []
    },
    {
      "cell_type": "code",
      "metadata": {
        "id": "-x6bV9X8SkfL"
      },
      "source": [
        "# 创建一条含有噪声的sin曲线\n",
        "rng=np.random.RandomState(0)  # 确定随机值\n",
        "X=np.sort(6.28*rng.rand(80,1),axis=0) # 注意X的范围（模拟一个完整的sin函数）以及排序问题\n",
        "y=np.sin(X).ravel() # 注意放入sklearn中训练的数据至少是二维，要降维\n",
        "# X二维，y一维（这个问题再确定一下原因）"
      ],
      "execution_count": null,
      "outputs": []
    },
    {
      "cell_type": "code",
      "metadata": {
        "id": "YjCu8q2A-7r-"
      },
      "source": [
        "# 将y每隔5个点加入噪声点在原有数值上进行偏移即可\n",
        "y[::5]+=3*(0.5-rng.rand(16)) # 注意将浮动范围从（0，1）-》（-0.5，0.5）,通过系数扩大的倍数y要降维"
      ],
      "execution_count": null,
      "outputs": []
    },
    {
      "cell_type": "code",
      "metadata": {
        "colab": {
          "base_uri": "https://localhost:8080/",
          "height": 265
        },
        "id": "6_dTEfkR6EVm",
        "outputId": "a4510f6a-d7f4-412a-ae60-ed0d5d49f328"
      },
      "source": [
        "# 绘制图像\n",
        "fig,ax=plt.subplots()\n",
        "ax.scatter(X,y,color=\"red\",label=\"sin(x)\")\n",
        "plt.legend()\n",
        "plt.show()"
      ],
      "execution_count": null,
      "outputs": [
        {
          "output_type": "display_data",
          "data": {
            "image/png": "[encoded data removed]",
            "text/plain": [
              "<Figure size 432x288 with 1 Axes>"
            ]
          },
          "metadata": {
            "tags": [],
            "needs_background": "light"
          }
        }
      ]
    },
    {
      "cell_type": "code",
      "metadata": {
        "colab": {
          "base_uri": "https://localhost:8080/"
        },
        "id": "tOsRy4qk6t2Y",
        "outputId": "a89a71a3-c776-4122-cdbf-f40c4fca7d0c"
      },
      "source": [
        "# 实例化和训练模型\n",
        "reg_1=DecisionTreeRegressor(max_depth=2)\n",
        "reg_2=DecisionTreeRegressor(max_depth=5)\n",
        "reg_1.fit(X,y)\n",
        "reg_2.fit(X,y)"
      ],
      "execution_count": null,
      "outputs": [
        {
          "output_type": "execute_result",
          "data": {
            "text/plain": [
              "DecisionTreeRegressor(ccp_alpha=0.0, criterion='mse', max_depth=5,\n",
              "                      max_features=None, max_leaf_nodes=None,\n",
              "                      min_impurity_decrease=0.0, min_impurity_split=None,\n",
              "                      min_samples_leaf=1, min_samples_split=2,\n",
              "                      min_weight_fraction_leaf=0.0, presort='deprecated',\n",
              "                      random_state=None, splitter='best')"
            ]
          },
          "metadata": {
            "tags": []
          },
          "execution_count": 55
        }
      ]
    },
    {
      "cell_type": "code",
      "metadata": {
        "id": "pVhQ6V2N7z1N"
      },
      "source": [
        "# 测试集导入模型，预测结果\n",
        "X_test=np.arange(0.0,5.0,0.01)[:,np.newaxis] # arange(开始点，结束点，步长)生成有序数组的函数,注意升维\n",
        "y_1=reg_1.predict(X_test) # 一维array\n",
        "y_2=reg_2.predict(X_test)\n",
        "\n",
        "# 注意增维切片np.newaxis"
      ],
      "execution_count": null,
      "outputs": []
    },
    {
      "cell_type": "code",
      "metadata": {
        "colab": {
          "base_uri": "https://localhost:8080/",
          "height": 279
        },
        "id": "wC2dQm7ZACuO",
        "outputId": "36386052-2ba2-4f25-eb33-39cb975557fb"
      },
      "source": [
        "# 绘图\n",
        "fig,ax=plt.subplots()\n",
        "ax.scatter(X,y,color=\"red\",label=\"sin(x)\") # 模拟真实数据\n",
        "ax.plot(X_test,y_1,color=\"red\",label=\"max_depth=2\") # 模拟max_depth=2训练数据\n",
        "ax.plot(X_test,y_2,color=\"blue\",label=\"max_depth=5\")  # 模拟max_depth=5的训练数据\n",
        "ax.set_xlabel(\"data\")  # 注意使用set_xlabel()接口\n",
        "ax.set_ylabel(\"Decision Tree Regression\")\n",
        "plt.legend()\n",
        "plt.show()\n",
        "# 结论：max_depth=2模拟效果好些，max_depth=5过拟合了"
      ],
      "execution_count": null,
      "outputs": [
        {
          "output_type": "display_data",
          "data": {
            "image/png": "[encoded data removed]",
            "text/plain": [
              "<Figure size 432x288 with 1 Axes>"
            ]
          },
          "metadata": {
            "tags": [],
            "needs_background": "light"
          }
        }
      ]
    },
    {
      "cell_type": "code",
      "metadata": {
        "id": "GPfPs5QLA6SL"
      },
      "source": [
        ""
      ],
      "execution_count": null,
      "outputs": []
    }
  ]
}