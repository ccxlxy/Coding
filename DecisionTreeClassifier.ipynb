{
  "nbformat": 4,
  "nbformat_minor": 0,
  "metadata": {
    "colab": {
      "name": "DecisionTreeClassifier.ipynb",
      "provenance": [],
      "collapsed_sections": [],
      "authorship_tag": "ABX9TyOXpa198YTw5vChXJFABrFA",
      "include_colab_link": true
    },
    "kernelspec": {
      "name": "python3",
      "display_name": "Python 3"
    },
    "language_info": {
      "name": "python"
    }
  },
  "cells": [
    {
      "cell_type": "markdown",
      "metadata": {
        "id": "view-in-github",
        "colab_type": "text"
      },
      "source": [
        "<a href=\"https://colab.research.google.com/github/ccxlxy/Coding/blob/main/DecisionTreeClassifier.ipynb\" target=\"_parent\"><img src=\"https://colab.research.google.com/assets/colab-badge.svg\" alt=\"Open In Colab\"/></a>"
      ]
    },
    {
      "cell_type": "code",
      "metadata": {
        "id": "tXa7E6aBDG52"
      },
      "source": [
        "from sklearn import tree\n",
        "from sklearn.datasets import load_wine\n",
        "from sklearn.model_selection import train_test_split"
      ],
      "execution_count": null,
      "outputs": []
    },
    {
      "cell_type": "code",
      "metadata": {
        "id": "-Ja1dh0cDm98"
      },
      "source": [
        "wine=load_wine()"
      ],
      "execution_count": null,
      "outputs": []
    },
    {
      "cell_type": "code",
      "metadata": {
        "colab": {
          "base_uri": "https://localhost:8080/",
          "height": 194
        },
        "id": "U7hIwBqaD7Ha",
        "outputId": "1a28939f-b3b0-4e2d-d265-a8cf07877ffd"
      },
      "source": [
        "import pandas as pd\n",
        "winepd=pd.concat([pd.DataFrame(wine.data),pd.DataFrame(wine.target)],axis=1)\n",
        "winepd.head()"
      ],
      "execution_count": null,
      "outputs": [
        {
          "output_type": "execute_result",
          "data": {
            "text/html": [
              "<div>\n",
              "<style scoped>\n",
              "    .dataframe tbody tr th:only-of-type {\n",
              "        vertical-align: middle;\n",
              "    }\n",
              "\n",
              "    .dataframe tbody tr th {\n",
              "        vertical-align: top;\n",
              "    }\n",
              "\n",
              "    .dataframe thead th {\n",
              "        text-align: right;\n",
              "    }\n",
              "</style>\n",
              "<table border=\"1\" class=\"dataframe\">\n",
              "  <thead>\n",
              "    <tr style=\"text-align: right;\">\n",
              "      <th></th>\n",
              "      <th>0</th>\n",
              "      <th>1</th>\n",
              "      <th>2</th>\n",
              "      <th>3</th>\n",
              "      <th>4</th>\n",
              "      <th>5</th>\n",
              "      <th>6</th>\n",
              "      <th>7</th>\n",
              "      <th>8</th>\n",
              "      <th>9</th>\n",
              "      <th>10</th>\n",
              "      <th>11</th>\n",
              "      <th>12</th>\n",
              "      <th>0</th>\n",
              "    </tr>\n",
              "  </thead>\n",
              "  <tbody>\n",
              "    <tr>\n",
              "      <th>0</th>\n",
              "      <td>14.23</td>\n",
              "      <td>1.71</td>\n",
              "      <td>2.43</td>\n",
              "      <td>15.6</td>\n",
              "      <td>127.0</td>\n",
              "      <td>2.80</td>\n",
              "      <td>3.06</td>\n",
              "      <td>0.28</td>\n",
              "      <td>2.29</td>\n",
              "      <td>5.64</td>\n",
              "      <td>1.04</td>\n",
              "      <td>3.92</td>\n",
              "      <td>1065.0</td>\n",
              "      <td>0</td>\n",
              "    </tr>\n",
              "    <tr>\n",
              "      <th>1</th>\n",
              "      <td>13.20</td>\n",
              "      <td>1.78</td>\n",
              "      <td>2.14</td>\n",
              "      <td>11.2</td>\n",
              "      <td>100.0</td>\n",
              "      <td>2.65</td>\n",
              "      <td>2.76</td>\n",
              "      <td>0.26</td>\n",
              "      <td>1.28</td>\n",
              "      <td>4.38</td>\n",
              "      <td>1.05</td>\n",
              "      <td>3.40</td>\n",
              "      <td>1050.0</td>\n",
              "      <td>0</td>\n",
              "    </tr>\n",
              "    <tr>\n",
              "      <th>2</th>\n",
              "      <td>13.16</td>\n",
              "      <td>2.36</td>\n",
              "      <td>2.67</td>\n",
              "      <td>18.6</td>\n",
              "      <td>101.0</td>\n",
              "      <td>2.80</td>\n",
              "      <td>3.24</td>\n",
              "      <td>0.30</td>\n",
              "      <td>2.81</td>\n",
              "      <td>5.68</td>\n",
              "      <td>1.03</td>\n",
              "      <td>3.17</td>\n",
              "      <td>1185.0</td>\n",
              "      <td>0</td>\n",
              "    </tr>\n",
              "    <tr>\n",
              "      <th>3</th>\n",
              "      <td>14.37</td>\n",
              "      <td>1.95</td>\n",
              "      <td>2.50</td>\n",
              "      <td>16.8</td>\n",
              "      <td>113.0</td>\n",
              "      <td>3.85</td>\n",
              "      <td>3.49</td>\n",
              "      <td>0.24</td>\n",
              "      <td>2.18</td>\n",
              "      <td>7.80</td>\n",
              "      <td>0.86</td>\n",
              "      <td>3.45</td>\n",
              "      <td>1480.0</td>\n",
              "      <td>0</td>\n",
              "    </tr>\n",
              "    <tr>\n",
              "      <th>4</th>\n",
              "      <td>13.24</td>\n",
              "      <td>2.59</td>\n",
              "      <td>2.87</td>\n",
              "      <td>21.0</td>\n",
              "      <td>118.0</td>\n",
              "      <td>2.80</td>\n",
              "      <td>2.69</td>\n",
              "      <td>0.39</td>\n",
              "      <td>1.82</td>\n",
              "      <td>4.32</td>\n",
              "      <td>1.04</td>\n",
              "      <td>2.93</td>\n",
              "      <td>735.0</td>\n",
              "      <td>0</td>\n",
              "    </tr>\n",
              "  </tbody>\n",
              "</table>\n",
              "</div>"
            ],
            "text/plain": [
              "      0     1     2     3      4     5   ...    8     9     10    11      12  0 \n",
              "0  14.23  1.71  2.43  15.6  127.0  2.80  ...  2.29  5.64  1.04  3.92  1065.0   0\n",
              "1  13.20  1.78  2.14  11.2  100.0  2.65  ...  1.28  4.38  1.05  3.40  1050.0   0\n",
              "2  13.16  2.36  2.67  18.6  101.0  2.80  ...  2.81  5.68  1.03  3.17  1185.0   0\n",
              "3  14.37  1.95  2.50  16.8  113.0  3.85  ...  2.18  7.80  0.86  3.45  1480.0   0\n",
              "4  13.24  2.59  2.87  21.0  118.0  2.80  ...  1.82  4.32  1.04  2.93   735.0   0\n",
              "\n",
              "[5 rows x 14 columns]"
            ]
          },
          "metadata": {
            "tags": []
          },
          "execution_count": 9
        }
      ]
    },
    {
      "cell_type": "code",
      "metadata": {
        "colab": {
          "base_uri": "https://localhost:8080/"
        },
        "id": "5jZ3B2c5EThV",
        "outputId": "d082429f-af3c-40c3-f76e-5bd9f381d60f"
      },
      "source": [
        "wine.feature_names"
      ],
      "execution_count": null,
      "outputs": [
        {
          "output_type": "execute_result",
          "data": {
            "text/plain": [
              "['alcohol',\n",
              " 'malic_acid',\n",
              " 'ash',\n",
              " 'alcalinity_of_ash',\n",
              " 'magnesium',\n",
              " 'total_phenols',\n",
              " 'flavanoids',\n",
              " 'nonflavanoid_phenols',\n",
              " 'proanthocyanins',\n",
              " 'color_intensity',\n",
              " 'hue',\n",
              " 'od280/od315_of_diluted_wines',\n",
              " 'proline']"
            ]
          },
          "metadata": {
            "tags": []
          },
          "execution_count": 10
        }
      ]
    },
    {
      "cell_type": "code",
      "metadata": {
        "colab": {
          "base_uri": "https://localhost:8080/"
        },
        "id": "BVZCIEumEo_t",
        "outputId": "5a5b8c78-434e-4f2d-f80f-8e9090bc9c63"
      },
      "source": [
        "wine.target_names"
      ],
      "execution_count": null,
      "outputs": [
        {
          "output_type": "execute_result",
          "data": {
            "text/plain": [
              "array(['class_0', 'class_1', 'class_2'], dtype='<U7')"
            ]
          },
          "metadata": {
            "tags": []
          },
          "execution_count": 11
        }
      ]
    },
    {
      "cell_type": "code",
      "metadata": {
        "id": "aHR0svXdErJn"
      },
      "source": [
        "Xtrain,Xtest,Ytrain,Ytest=train_test_split(wine.data,wine.target,test_size=0.3)"
      ],
      "execution_count": null,
      "outputs": []
    },
    {
      "cell_type": "code",
      "metadata": {
        "colab": {
          "base_uri": "https://localhost:8080/"
        },
        "id": "vkV-eXOYE46l",
        "outputId": "e11bf3a6-8835-4034-a026-dcf306d078c9"
      },
      "source": [
        "clf=tree.DecisionTreeClassifier(criterion=\"entropy\",\n",
        "                random_state=30,\n",
        "                splitter=\"random\", # 随机划分\n",
        "                max_depth=3,\n",
        "                # min_samples_leaf=10, # 分支后节点至少含有的训练样本数\n",
        "                # min_samples_split=10  # 至少含有训练样本数才允许分支\n",
        "                ) \n",
        "clf=clf.fit(Xtrain,Ytrain)  # Ytrain对应target\n",
        "score=clf.score(Xtest,Ytest)\n",
        "\n",
        "score"
      ],
      "execution_count": null,
      "outputs": [
        {
          "output_type": "execute_result",
          "data": {
            "text/plain": [
              "0.9259259259259259"
            ]
          },
          "metadata": {
            "tags": []
          },
          "execution_count": 48
        }
      ]
    },
    {
      "cell_type": "code",
      "metadata": {
        "colab": {
          "base_uri": "https://localhost:8080/",
          "height": 733
        },
        "id": "Fgk_NpdCFZOG",
        "outputId": "7c9601bf-0511-4a20-da5b-66ed76046e24"
      },
      "source": [
        "import graphviz\n",
        "dot_data=tree.export_graphviz(clf,\n",
        "               out_file=None,\n",
        "              #  max_depth=3, # 显示的层数，不是构造时的层数\n",
        "               feature_names=wine.feature_names,\n",
        "               class_names=wine.target_names,\n",
        "               filled=True, # 填充色\n",
        "               rounded=True  # 原角\n",
        "              )\n",
        "\n",
        "graph=graphviz.Source(dot_data)\n",
        "graph"
      ],
      "execution_count": null,
      "outputs": [
        {
          "output_type": "execute_result",
          "data": {
            "text/plain": [
              "<graphviz.files.Source at 0x7f82d0b304d0>"
            ],
            "image/svg+xml": "<?xml version=\"1.0\" encoding=\"UTF-8\" standalone=\"no\"?>\n<!DOCTYPE svg PUBLIC \"-//W3C//DTD SVG 1.1//EN\"\n \"http://www.w3.org/Graphics/SVG/1.1/DTD/svg11.dtd\">\n<!-- Generated by graphviz version 2.40.1 (20161225.0304)\n -->\n<!-- Title: Tree Pages: 1 -->\n<svg width=\"735pt\" height=\"520pt\"\n viewBox=\"0.00 0.00 734.50 520.00\" xmlns=\"http://www.w3.org/2000/svg\" xmlns:xlink=\"http://www.w3.org/1999/xlink\">\n<g id=\"graph0\" class=\"graph\" transform=\"scale(1 1) rotate(0) translate(4 516)\">\n<title>Tree</title>\n<polygon fill=\"#ffffff\" stroke=\"transparent\" points=\"-4,4 -4,-516 730.5,-516 730.5,4 -4,4\"/>\n<!-- 0 -->\n<g id=\"node1\" class=\"node\">\n<title>0</title>\n<path fill=\"#f5fef9\" stroke=\"#000000\" d=\"M334,-512C334,-512 218,-512 218,-512 212,-512 206,-506 206,-500 206,-500 206,-441 206,-441 206,-435 212,-429 218,-429 218,-429 334,-429 334,-429 340,-429 346,-435 346,-441 346,-441 346,-500 346,-500 346,-506 340,-512 334,-512\"/>\n<text text-anchor=\"middle\" x=\"276\" y=\"-496.8\" font-family=\"Helvetica,sans-Serif\" font-size=\"14.00\" fill=\"#000000\">flavanoids &lt;= 1.58</text>\n<text text-anchor=\"middle\" x=\"276\" y=\"-481.8\" font-family=\"Helvetica,sans-Serif\" font-size=\"14.00\" fill=\"#000000\">entropy = 1.555</text>\n<text text-anchor=\"middle\" x=\"276\" y=\"-466.8\" font-family=\"Helvetica,sans-Serif\" font-size=\"14.00\" fill=\"#000000\">samples = 124</text>\n<text text-anchor=\"middle\" x=\"276\" y=\"-451.8\" font-family=\"Helvetica,sans-Serif\" font-size=\"14.00\" fill=\"#000000\">value = [45, 49, 30]</text>\n<text text-anchor=\"middle\" x=\"276\" y=\"-436.8\" font-family=\"Helvetica,sans-Serif\" font-size=\"14.00\" fill=\"#000000\">class = class_1</text>\n</g>\n<!-- 1 -->\n<g id=\"node2\" class=\"node\">\n<title>1</title>\n<path fill=\"#9a61ea\" stroke=\"#000000\" d=\"M265,-393C265,-393 119,-393 119,-393 113,-393 107,-387 107,-381 107,-381 107,-322 107,-322 107,-316 113,-310 119,-310 119,-310 265,-310 265,-310 271,-310 277,-316 277,-322 277,-322 277,-381 277,-381 277,-387 271,-393 265,-393\"/>\n<text text-anchor=\"middle\" x=\"192\" y=\"-377.8\" font-family=\"Helvetica,sans-Serif\" font-size=\"14.00\" fill=\"#000000\">color_intensity &lt;= 3.625</text>\n<text text-anchor=\"middle\" x=\"192\" y=\"-362.8\" font-family=\"Helvetica,sans-Serif\" font-size=\"14.00\" fill=\"#000000\">entropy = 0.65</text>\n<text text-anchor=\"middle\" x=\"192\" y=\"-347.8\" font-family=\"Helvetica,sans-Serif\" font-size=\"14.00\" fill=\"#000000\">samples = 36</text>\n<text text-anchor=\"middle\" x=\"192\" y=\"-332.8\" font-family=\"Helvetica,sans-Serif\" font-size=\"14.00\" fill=\"#000000\">value = [0, 6, 30]</text>\n<text text-anchor=\"middle\" x=\"192\" y=\"-317.8\" font-family=\"Helvetica,sans-Serif\" font-size=\"14.00\" fill=\"#000000\">class = class_2</text>\n</g>\n<!-- 0&#45;&gt;1 -->\n<g id=\"edge1\" class=\"edge\">\n<title>0&#45;&gt;1</title>\n<path fill=\"none\" stroke=\"#000000\" d=\"M246.6209,-428.8796C240.3906,-420.0534 233.7519,-410.6485 227.327,-401.5466\"/>\n<polygon fill=\"#000000\" stroke=\"#000000\" points=\"230.1308,-399.4494 221.5045,-393.2981 224.412,-403.4862 230.1308,-399.4494\"/>\n<text text-anchor=\"middle\" x=\"217.2568\" y=\"-414.2346\" font-family=\"Helvetica,sans-Serif\" font-size=\"14.00\" fill=\"#000000\">True</text>\n</g>\n<!-- 4 -->\n<g id=\"node5\" class=\"node\">\n<title>4</title>\n<path fill=\"#fef9f6\" stroke=\"#000000\" d=\"M414.5,-393C414.5,-393 307.5,-393 307.5,-393 301.5,-393 295.5,-387 295.5,-381 295.5,-381 295.5,-322 295.5,-322 295.5,-316 301.5,-310 307.5,-310 307.5,-310 414.5,-310 414.5,-310 420.5,-310 426.5,-316 426.5,-322 426.5,-322 426.5,-381 426.5,-381 426.5,-387 420.5,-393 414.5,-393\"/>\n<text text-anchor=\"middle\" x=\"361\" y=\"-377.8\" font-family=\"Helvetica,sans-Serif\" font-size=\"14.00\" fill=\"#000000\">proline &lt;= 724.5</text>\n<text text-anchor=\"middle\" x=\"361\" y=\"-362.8\" font-family=\"Helvetica,sans-Serif\" font-size=\"14.00\" fill=\"#000000\">entropy = 1.0</text>\n<text text-anchor=\"middle\" x=\"361\" y=\"-347.8\" font-family=\"Helvetica,sans-Serif\" font-size=\"14.00\" fill=\"#000000\">samples = 88</text>\n<text text-anchor=\"middle\" x=\"361\" y=\"-332.8\" font-family=\"Helvetica,sans-Serif\" font-size=\"14.00\" fill=\"#000000\">value = [45, 43, 0]</text>\n<text text-anchor=\"middle\" x=\"361\" y=\"-317.8\" font-family=\"Helvetica,sans-Serif\" font-size=\"14.00\" fill=\"#000000\">class = class_0</text>\n</g>\n<!-- 0&#45;&gt;4 -->\n<g id=\"edge4\" class=\"edge\">\n<title>0&#45;&gt;4</title>\n<path fill=\"none\" stroke=\"#000000\" d=\"M305.7289,-428.8796C312.0333,-420.0534 318.751,-410.6485 325.2524,-401.5466\"/>\n<polygon fill=\"#000000\" stroke=\"#000000\" points=\"328.1799,-403.4698 331.1442,-393.2981 322.4837,-399.4011 328.1799,-403.4698\"/>\n<text text-anchor=\"middle\" x=\"335.2542\" y=\"-414.2579\" font-family=\"Helvetica,sans-Serif\" font-size=\"14.00\" fill=\"#000000\">False</text>\n</g>\n<!-- 2 -->\n<g id=\"node3\" class=\"node\">\n<title>2</title>\n<path fill=\"#39e581\" stroke=\"#000000\" d=\"M104,-266.5C104,-266.5 12,-266.5 12,-266.5 6,-266.5 0,-260.5 0,-254.5 0,-254.5 0,-210.5 0,-210.5 0,-204.5 6,-198.5 12,-198.5 12,-198.5 104,-198.5 104,-198.5 110,-198.5 116,-204.5 116,-210.5 116,-210.5 116,-254.5 116,-254.5 116,-260.5 110,-266.5 104,-266.5\"/>\n<text text-anchor=\"middle\" x=\"58\" y=\"-251.3\" font-family=\"Helvetica,sans-Serif\" font-size=\"14.00\" fill=\"#000000\">entropy = 0.0</text>\n<text text-anchor=\"middle\" x=\"58\" y=\"-236.3\" font-family=\"Helvetica,sans-Serif\" font-size=\"14.00\" fill=\"#000000\">samples = 6</text>\n<text text-anchor=\"middle\" x=\"58\" y=\"-221.3\" font-family=\"Helvetica,sans-Serif\" font-size=\"14.00\" fill=\"#000000\">value = [0, 6, 0]</text>\n<text text-anchor=\"middle\" x=\"58\" y=\"-206.3\" font-family=\"Helvetica,sans-Serif\" font-size=\"14.00\" fill=\"#000000\">class = class_1</text>\n</g>\n<!-- 1&#45;&gt;2 -->\n<g id=\"edge2\" class=\"edge\">\n<title>1&#45;&gt;2</title>\n<path fill=\"none\" stroke=\"#000000\" d=\"M145.1333,-309.8796C131.8844,-298.1138 117.4776,-285.3197 104.2644,-273.5855\"/>\n<polygon fill=\"#000000\" stroke=\"#000000\" points=\"106.4416,-270.8381 96.6403,-266.8149 101.7935,-276.0722 106.4416,-270.8381\"/>\n</g>\n<!-- 3 -->\n<g id=\"node4\" class=\"node\">\n<title>3</title>\n<path fill=\"#8139e5\" stroke=\"#000000\" d=\"M245.5,-266.5C245.5,-266.5 146.5,-266.5 146.5,-266.5 140.5,-266.5 134.5,-260.5 134.5,-254.5 134.5,-254.5 134.5,-210.5 134.5,-210.5 134.5,-204.5 140.5,-198.5 146.5,-198.5 146.5,-198.5 245.5,-198.5 245.5,-198.5 251.5,-198.5 257.5,-204.5 257.5,-210.5 257.5,-210.5 257.5,-254.5 257.5,-254.5 257.5,-260.5 251.5,-266.5 245.5,-266.5\"/>\n<text text-anchor=\"middle\" x=\"196\" y=\"-251.3\" font-family=\"Helvetica,sans-Serif\" font-size=\"14.00\" fill=\"#000000\">entropy = 0.0</text>\n<text text-anchor=\"middle\" x=\"196\" y=\"-236.3\" font-family=\"Helvetica,sans-Serif\" font-size=\"14.00\" fill=\"#000000\">samples = 30</text>\n<text text-anchor=\"middle\" x=\"196\" y=\"-221.3\" font-family=\"Helvetica,sans-Serif\" font-size=\"14.00\" fill=\"#000000\">value = [0, 0, 30]</text>\n<text text-anchor=\"middle\" x=\"196\" y=\"-206.3\" font-family=\"Helvetica,sans-Serif\" font-size=\"14.00\" fill=\"#000000\">class = class_2</text>\n</g>\n<!-- 1&#45;&gt;3 -->\n<g id=\"edge3\" class=\"edge\">\n<title>1&#45;&gt;3</title>\n<path fill=\"none\" stroke=\"#000000\" d=\"M193.399,-309.8796C193.7575,-299.2134 194.1445,-287.7021 194.5075,-276.9015\"/>\n<polygon fill=\"#000000\" stroke=\"#000000\" points=\"198.0085,-276.9269 194.8466,-266.8149 191.0125,-276.6917 198.0085,-276.9269\"/>\n</g>\n<!-- 5 -->\n<g id=\"node6\" class=\"node\">\n<title>5</title>\n<path fill=\"#3ee684\" stroke=\"#000000\" d=\"M422.5,-274C422.5,-274 293.5,-274 293.5,-274 287.5,-274 281.5,-268 281.5,-262 281.5,-262 281.5,-203 281.5,-203 281.5,-197 287.5,-191 293.5,-191 293.5,-191 422.5,-191 422.5,-191 428.5,-191 434.5,-197 434.5,-203 434.5,-203 434.5,-262 434.5,-262 434.5,-268 428.5,-274 422.5,-274\"/>\n<text text-anchor=\"middle\" x=\"358\" y=\"-258.8\" font-family=\"Helvetica,sans-Serif\" font-size=\"14.00\" fill=\"#000000\">magnesium &lt;= 102.5</text>\n<text text-anchor=\"middle\" x=\"358\" y=\"-243.8\" font-family=\"Helvetica,sans-Serif\" font-size=\"14.00\" fill=\"#000000\">entropy = 0.165</text>\n<text text-anchor=\"middle\" x=\"358\" y=\"-228.8\" font-family=\"Helvetica,sans-Serif\" font-size=\"14.00\" fill=\"#000000\">samples = 41</text>\n<text text-anchor=\"middle\" x=\"358\" y=\"-213.8\" font-family=\"Helvetica,sans-Serif\" font-size=\"14.00\" fill=\"#000000\">value = [1, 40, 0]</text>\n<text text-anchor=\"middle\" x=\"358\" y=\"-198.8\" font-family=\"Helvetica,sans-Serif\" font-size=\"14.00\" fill=\"#000000\">class = class_1</text>\n</g>\n<!-- 4&#45;&gt;5 -->\n<g id=\"edge5\" class=\"edge\">\n<title>4&#45;&gt;5</title>\n<path fill=\"none\" stroke=\"#000000\" d=\"M359.9507,-309.8796C359.7441,-301.6838 359.5249,-292.9891 359.311,-284.5013\"/>\n<polygon fill=\"#000000\" stroke=\"#000000\" points=\"362.8047,-284.2067 359.0537,-274.2981 355.807,-284.3831 362.8047,-284.2067\"/>\n</g>\n<!-- 10 -->\n<g id=\"node11\" class=\"node\">\n<title>10</title>\n<path fill=\"#e78a46\" stroke=\"#000000\" d=\"M611,-274C611,-274 465,-274 465,-274 459,-274 453,-268 453,-262 453,-262 453,-203 453,-203 453,-197 459,-191 465,-191 465,-191 611,-191 611,-191 617,-191 623,-197 623,-203 623,-203 623,-262 623,-262 623,-268 617,-274 611,-274\"/>\n<text text-anchor=\"middle\" x=\"538\" y=\"-258.8\" font-family=\"Helvetica,sans-Serif\" font-size=\"14.00\" fill=\"#000000\">color_intensity &lt;= 3.465</text>\n<text text-anchor=\"middle\" x=\"538\" y=\"-243.8\" font-family=\"Helvetica,sans-Serif\" font-size=\"14.00\" fill=\"#000000\">entropy = 0.342</text>\n<text text-anchor=\"middle\" x=\"538\" y=\"-228.8\" font-family=\"Helvetica,sans-Serif\" font-size=\"14.00\" fill=\"#000000\">samples = 47</text>\n<text text-anchor=\"middle\" x=\"538\" y=\"-213.8\" font-family=\"Helvetica,sans-Serif\" font-size=\"14.00\" fill=\"#000000\">value = [44, 3, 0]</text>\n<text text-anchor=\"middle\" x=\"538\" y=\"-198.8\" font-family=\"Helvetica,sans-Serif\" font-size=\"14.00\" fill=\"#000000\">class = class_0</text>\n</g>\n<!-- 4&#45;&gt;10 -->\n<g id=\"edge10\" class=\"edge\">\n<title>4&#45;&gt;10</title>\n<path fill=\"none\" stroke=\"#000000\" d=\"M422.906,-309.8796C437.323,-300.1868 452.778,-289.7961 467.5344,-279.8752\"/>\n<polygon fill=\"#000000\" stroke=\"#000000\" points=\"469.7829,-282.581 476.1289,-274.0969 465.8773,-276.7718 469.7829,-282.581\"/>\n</g>\n<!-- 6 -->\n<g id=\"node7\" class=\"node\">\n<title>6</title>\n<path fill=\"#39e581\" stroke=\"#000000\" d=\"M278.5,-147.5C278.5,-147.5 179.5,-147.5 179.5,-147.5 173.5,-147.5 167.5,-141.5 167.5,-135.5 167.5,-135.5 167.5,-91.5 167.5,-91.5 167.5,-85.5 173.5,-79.5 179.5,-79.5 179.5,-79.5 278.5,-79.5 278.5,-79.5 284.5,-79.5 290.5,-85.5 290.5,-91.5 290.5,-91.5 290.5,-135.5 290.5,-135.5 290.5,-141.5 284.5,-147.5 278.5,-147.5\"/>\n<text text-anchor=\"middle\" x=\"229\" y=\"-132.3\" font-family=\"Helvetica,sans-Serif\" font-size=\"14.00\" fill=\"#000000\">entropy = 0.0</text>\n<text text-anchor=\"middle\" x=\"229\" y=\"-117.3\" font-family=\"Helvetica,sans-Serif\" font-size=\"14.00\" fill=\"#000000\">samples = 39</text>\n<text text-anchor=\"middle\" x=\"229\" y=\"-102.3\" font-family=\"Helvetica,sans-Serif\" font-size=\"14.00\" fill=\"#000000\">value = [0, 39, 0]</text>\n<text text-anchor=\"middle\" x=\"229\" y=\"-87.3\" font-family=\"Helvetica,sans-Serif\" font-size=\"14.00\" fill=\"#000000\">class = class_1</text>\n</g>\n<!-- 5&#45;&gt;6 -->\n<g id=\"edge6\" class=\"edge\">\n<title>5&#45;&gt;6</title>\n<path fill=\"none\" stroke=\"#000000\" d=\"M312.8821,-190.8796C300.2467,-179.2237 286.5174,-166.5587 273.895,-154.9148\"/>\n<polygon fill=\"#000000\" stroke=\"#000000\" points=\"275.922,-152.0228 266.1985,-147.8149 271.1756,-157.168 275.922,-152.0228\"/>\n</g>\n<!-- 7 -->\n<g id=\"node8\" class=\"node\">\n<title>7</title>\n<path fill=\"#ffffff\" stroke=\"#000000\" d=\"M417.5,-155C417.5,-155 320.5,-155 320.5,-155 314.5,-155 308.5,-149 308.5,-143 308.5,-143 308.5,-84 308.5,-84 308.5,-78 314.5,-72 320.5,-72 320.5,-72 417.5,-72 417.5,-72 423.5,-72 429.5,-78 429.5,-84 429.5,-84 429.5,-143 429.5,-143 429.5,-149 423.5,-155 417.5,-155\"/>\n<text text-anchor=\"middle\" x=\"369\" y=\"-139.8\" font-family=\"Helvetica,sans-Serif\" font-size=\"14.00\" fill=\"#000000\">proline &lt;= 572.5</text>\n<text text-anchor=\"middle\" x=\"369\" y=\"-124.8\" font-family=\"Helvetica,sans-Serif\" font-size=\"14.00\" fill=\"#000000\">entropy = 1.0</text>\n<text text-anchor=\"middle\" x=\"369\" y=\"-109.8\" font-family=\"Helvetica,sans-Serif\" font-size=\"14.00\" fill=\"#000000\">samples = 2</text>\n<text text-anchor=\"middle\" x=\"369\" y=\"-94.8\" font-family=\"Helvetica,sans-Serif\" font-size=\"14.00\" fill=\"#000000\">value = [1, 1, 0]</text>\n<text text-anchor=\"middle\" x=\"369\" y=\"-79.8\" font-family=\"Helvetica,sans-Serif\" font-size=\"14.00\" fill=\"#000000\">class = class_0</text>\n</g>\n<!-- 5&#45;&gt;7 -->\n<g id=\"edge7\" class=\"edge\">\n<title>5&#45;&gt;7</title>\n<path fill=\"none\" stroke=\"#000000\" d=\"M361.8473,-190.8796C362.6049,-182.6838 363.4086,-173.9891 364.1932,-165.5013\"/>\n<polygon fill=\"#000000\" stroke=\"#000000\" points=\"367.7009,-165.5778 365.1363,-155.2981 360.7306,-164.9334 367.7009,-165.5778\"/>\n</g>\n<!-- 8 -->\n<g id=\"node9\" class=\"node\">\n<title>8</title>\n<path fill=\"#c0c0c0\" stroke=\"#000000\" d=\"M348,-36C348,-36 318,-36 318,-36 312,-36 306,-30 306,-24 306,-24 306,-12 306,-12 306,-6 312,0 318,0 318,0 348,0 348,0 354,0 360,-6 360,-12 360,-12 360,-24 360,-24 360,-30 354,-36 348,-36\"/>\n<text text-anchor=\"middle\" x=\"333\" y=\"-14.3\" font-family=\"Helvetica,sans-Serif\" font-size=\"14.00\" fill=\"#000000\">(...)</text>\n</g>\n<!-- 7&#45;&gt;8 -->\n<g id=\"edge8\" class=\"edge\">\n<title>7&#45;&gt;8</title>\n<path fill=\"none\" stroke=\"#000000\" d=\"M353.3146,-71.8901C349.9739,-63.0279 346.525,-53.8788 343.4386,-45.6913\"/>\n<polygon fill=\"#000000\" stroke=\"#000000\" points=\"346.6877,-44.3878 339.8853,-36.2651 340.1376,-46.8569 346.6877,-44.3878\"/>\n</g>\n<!-- 9 -->\n<g id=\"node10\" class=\"node\">\n<title>9</title>\n<path fill=\"#c0c0c0\" stroke=\"#000000\" d=\"M420,-36C420,-36 390,-36 390,-36 384,-36 378,-30 378,-24 378,-24 378,-12 378,-12 378,-6 384,0 390,0 390,0 420,0 420,0 426,0 432,-6 432,-12 432,-12 432,-24 432,-24 432,-30 426,-36 420,-36\"/>\n<text text-anchor=\"middle\" x=\"405\" y=\"-14.3\" font-family=\"Helvetica,sans-Serif\" font-size=\"14.00\" fill=\"#000000\">(...)</text>\n</g>\n<!-- 7&#45;&gt;9 -->\n<g id=\"edge9\" class=\"edge\">\n<title>7&#45;&gt;9</title>\n<path fill=\"none\" stroke=\"#000000\" d=\"M384.6854,-71.8901C388.0261,-63.0279 391.475,-53.8788 394.5614,-45.6913\"/>\n<polygon fill=\"#000000\" stroke=\"#000000\" points=\"397.8624,-46.8569 398.1147,-36.2651 391.3123,-44.3878 397.8624,-46.8569\"/>\n</g>\n<!-- 11 -->\n<g id=\"node12\" class=\"node\">\n<title>11</title>\n<path fill=\"#39e581\" stroke=\"#000000\" d=\"M573,-147.5C573,-147.5 481,-147.5 481,-147.5 475,-147.5 469,-141.5 469,-135.5 469,-135.5 469,-91.5 469,-91.5 469,-85.5 475,-79.5 481,-79.5 481,-79.5 573,-79.5 573,-79.5 579,-79.5 585,-85.5 585,-91.5 585,-91.5 585,-135.5 585,-135.5 585,-141.5 579,-147.5 573,-147.5\"/>\n<text text-anchor=\"middle\" x=\"527\" y=\"-132.3\" font-family=\"Helvetica,sans-Serif\" font-size=\"14.00\" fill=\"#000000\">entropy = 0.0</text>\n<text text-anchor=\"middle\" x=\"527\" y=\"-117.3\" font-family=\"Helvetica,sans-Serif\" font-size=\"14.00\" fill=\"#000000\">samples = 3</text>\n<text text-anchor=\"middle\" x=\"527\" y=\"-102.3\" font-family=\"Helvetica,sans-Serif\" font-size=\"14.00\" fill=\"#000000\">value = [0, 3, 0]</text>\n<text text-anchor=\"middle\" x=\"527\" y=\"-87.3\" font-family=\"Helvetica,sans-Serif\" font-size=\"14.00\" fill=\"#000000\">class = class_1</text>\n</g>\n<!-- 10&#45;&gt;11 -->\n<g id=\"edge11\" class=\"edge\">\n<title>10&#45;&gt;11</title>\n<path fill=\"none\" stroke=\"#000000\" d=\"M534.1527,-190.8796C533.1668,-180.2134 532.1027,-168.7021 531.1043,-157.9015\"/>\n<polygon fill=\"#000000\" stroke=\"#000000\" points=\"534.5776,-157.4503 530.172,-147.8149 527.6074,-158.0947 534.5776,-157.4503\"/>\n</g>\n<!-- 12 -->\n<g id=\"node13\" class=\"node\">\n<title>12</title>\n<path fill=\"#e58139\" stroke=\"#000000\" d=\"M714.5,-147.5C714.5,-147.5 615.5,-147.5 615.5,-147.5 609.5,-147.5 603.5,-141.5 603.5,-135.5 603.5,-135.5 603.5,-91.5 603.5,-91.5 603.5,-85.5 609.5,-79.5 615.5,-79.5 615.5,-79.5 714.5,-79.5 714.5,-79.5 720.5,-79.5 726.5,-85.5 726.5,-91.5 726.5,-91.5 726.5,-135.5 726.5,-135.5 726.5,-141.5 720.5,-147.5 714.5,-147.5\"/>\n<text text-anchor=\"middle\" x=\"665\" y=\"-132.3\" font-family=\"Helvetica,sans-Serif\" font-size=\"14.00\" fill=\"#000000\">entropy = 0.0</text>\n<text text-anchor=\"middle\" x=\"665\" y=\"-117.3\" font-family=\"Helvetica,sans-Serif\" font-size=\"14.00\" fill=\"#000000\">samples = 44</text>\n<text text-anchor=\"middle\" x=\"665\" y=\"-102.3\" font-family=\"Helvetica,sans-Serif\" font-size=\"14.00\" fill=\"#000000\">value = [44, 0, 0]</text>\n<text text-anchor=\"middle\" x=\"665\" y=\"-87.3\" font-family=\"Helvetica,sans-Serif\" font-size=\"14.00\" fill=\"#000000\">class = class_0</text>\n</g>\n<!-- 10&#45;&gt;12 -->\n<g id=\"edge12\" class=\"edge\">\n<title>10&#45;&gt;12</title>\n<path fill=\"none\" stroke=\"#000000\" d=\"M582.4184,-190.8796C594.8579,-179.2237 608.3743,-166.5587 620.801,-154.9148\"/>\n<polygon fill=\"#000000\" stroke=\"#000000\" points=\"623.4741,-157.2065 628.3782,-147.8149 618.6879,-152.0985 623.4741,-157.2065\"/>\n</g>\n</g>\n</svg>\n"
          },
          "metadata": {
            "tags": []
          },
          "execution_count": 30
        }
      ]
    },
    {
      "cell_type": "code",
      "metadata": {
        "colab": {
          "base_uri": "https://localhost:8080/"
        },
        "id": "CnPp2BSgGt1U",
        "outputId": "b20cfeb0-88f7-4916-96ce-01eb00ec560b"
      },
      "source": [
        "clf.feature_importances_"
      ],
      "execution_count": null,
      "outputs": [
        {
          "output_type": "execute_result",
          "data": {
            "text/plain": [
              "array([0.        , 0.        , 0.        , 0.        , 0.02479789,\n",
              "       0.        , 0.42254313, 0.        , 0.        , 0.20479476,\n",
              "       0.        , 0.        , 0.34786422])"
            ]
          },
          "metadata": {
            "tags": []
          },
          "execution_count": 31
        }
      ]
    },
    {
      "cell_type": "code",
      "metadata": {
        "colab": {
          "base_uri": "https://localhost:8080/"
        },
        "id": "YHbdmFnwHjZY",
        "outputId": "4aec5931-08f4-47fc-8519-b2bde042e04a"
      },
      "source": [
        "[*zip(wine.feature_names,clf.feature_importances_)]"
      ],
      "execution_count": null,
      "outputs": [
        {
          "output_type": "execute_result",
          "data": {
            "text/plain": [
              "[('alcohol', 0.10395162638817985),\n",
              " ('malic_acid', 0.0),\n",
              " ('ash', 0.0),\n",
              " ('alcalinity_of_ash', 0.03988390926478045),\n",
              " ('magnesium', 0.0),\n",
              " ('total_phenols', 0.0),\n",
              " ('flavanoids', 0.49126476592816576),\n",
              " ('nonflavanoid_phenols', 0.0),\n",
              " ('proanthocyanins', 0.0),\n",
              " ('color_intensity', 0.0),\n",
              " ('hue', 0.0),\n",
              " ('od280/od315_of_diluted_wines', 0.16130407598199425),\n",
              " ('proline', 0.2035956224368797)]"
            ]
          },
          "metadata": {
            "tags": []
          },
          "execution_count": 49
        }
      ]
    },
    {
      "cell_type": "code",
      "metadata": {
        "colab": {
          "base_uri": "https://localhost:8080/",
          "height": 265
        },
        "id": "6ClLvsBZJ2p2",
        "outputId": "b1999eab-a86e-4bac-88c1-46c776a3a851"
      },
      "source": [
        "# 确认最优剪枝参数\n",
        "import matplotlib.pyplot as plt\n",
        "\n",
        "test=[]\n",
        "for i in range(10):\n",
        "  clf=tree.DecisionTreeClassifier(criterion=\"entropy\",\n",
        "                  max_depth=i+1,\n",
        "                  random_state=30,\n",
        "                  splitter=\"random\",\n",
        "                  )\n",
        "  clf.fit(Xtrain,Ytrain)\n",
        "  score=clf.score(Xtest,Ytest)\n",
        "  test.append(score)\n",
        "\n",
        "fig,ax=plt.subplots()\n",
        "ax.plot(range(1,11),test,color=\"yellow\",label=\"max_depth\")\n",
        "ax.set_xticks(range(1,11)) # 标尺是一个列表 \n",
        "plt.legend() # 显示图例\n",
        "plt.show()  # 显示图像"
      ],
      "execution_count": null,
      "outputs": [
        {
          "output_type": "display_data",
          "data": {
            "image/png": "[encoded data removed]",
            "text/plain": [
              "<Figure size 432x288 with 1 Axes>"
            ]
          },
          "metadata": {
            "tags": [],
            "needs_background": "light"
          }
        }
      ]
    },
    {
      "cell_type": "code",
      "metadata": {
        "colab": {
          "base_uri": "https://localhost:8080/"
        },
        "id": "YiHg3WasLBeg",
        "outputId": "4b4fb6fb-b591-4c23-d695-8658f2e5edbc"
      },
      "source": [
        "clf.apply(Xtest) # 返回每个测试样本所在叶子结点的索引"
      ],
      "execution_count": null,
      "outputs": [
        {
          "output_type": "execute_result",
          "data": {
            "text/plain": [
              "array([13, 17,  5,  5, 13, 17, 17, 11,  8,  5, 11,  5, 17, 17,  3,  3, 17,\n",
              "        8, 17, 11,  5, 11,  5, 17, 11, 17, 11, 11, 11, 17, 13,  5, 17, 11,\n",
              "        5, 11,  5,  5, 17,  5, 13,  8, 11, 17,  5,  5, 17,  5, 11, 17,  5,\n",
              "        5,  8,  8])"
            ]
          },
          "metadata": {
            "tags": []
          },
          "execution_count": 80
        }
      ]
    },
    {
      "cell_type": "code",
      "metadata": {
        "colab": {
          "base_uri": "https://localhost:8080/"
        },
        "id": "sTEnwyLCN_DX",
        "outputId": "3993c953-f406-4d8e-a1f4-489902e96f09"
      },
      "source": [
        "clf.predict(Xtest)  # 返回每个测试样本的分类/回归结果"
      ],
      "execution_count": null,
      "outputs": [
        {
          "output_type": "execute_result",
          "data": {
            "text/plain": [
              "array([1, 0, 2, 2, 1, 0, 0, 1, 2, 2, 1, 2, 0, 0, 1, 1, 0, 2, 0, 1, 2, 1,\n",
              "       2, 0, 1, 0, 1, 1, 1, 0, 1, 2, 0, 1, 2, 1, 2, 2, 0, 2, 1, 2, 1, 0,\n",
              "       2, 2, 0, 2, 1, 0, 2, 2, 2, 2])"
            ]
          },
          "metadata": {
            "tags": []
          },
          "execution_count": 81
        }
      ]
    },
    {
      "cell_type": "code",
      "metadata": {
        "id": "X3nXhRuUOO_8"
      },
      "source": [
        ""
      ],
      "execution_count": null,
      "outputs": []
    }
  ]
}